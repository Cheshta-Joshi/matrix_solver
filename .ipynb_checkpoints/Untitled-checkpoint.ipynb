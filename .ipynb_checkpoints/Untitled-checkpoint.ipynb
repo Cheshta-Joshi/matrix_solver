{
 "cells": [
  {
   "cell_type": "code",
   "execution_count": 1,
   "id": "1e8dcf65",
   "metadata": {},
   "outputs": [],
   "source": [
    "import numpy as np"
   ]
  },
  {
   "cell_type": "code",
   "execution_count": null,
   "id": "60a26f0a",
   "metadata": {},
   "outputs": [],
   "source": []
  }
 ],
 "metadata": {
  "kernelspec": {
   "display_name": "Python 3.8.3 64-bit ('qiskit': conda)",
   "language": "python",
   "name": "python38364bitqiskitconda85c61b2c9abf41d69916d1aec5f7d63b"
  },
  "language_info": {
   "codemirror_mode": {
    "name": "ipython",
    "version": 3
   },
   "file_extension": ".py",
   "mimetype": "text/x-python",
   "name": "python",
   "nbconvert_exporter": "python",
   "pygments_lexer": "ipython3",
   "version": "3.9.16"
  }
 },
 "nbformat": 4,
 "nbformat_minor": 5
}
