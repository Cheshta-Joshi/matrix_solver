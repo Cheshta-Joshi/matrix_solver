{
 "cells": [
  {
   "cell_type": "code",
   "execution_count": 1,
   "id": "1e8dcf65",
   "metadata": {},
   "outputs": [],
   "source": [
    "import numpy as np\n",
    "import matplotlib.pyplot as plt"
   ]
  },
  {
   "cell_type": "markdown",
   "id": "bd050ef8",
   "metadata": {},
   "source": [
    "## Sparse Matrices\n",
    "In this notebook, we study **Sparse Matrices** and explore ways of handling and solving them. These matrices are commonly found while solving different problems and can take up a lot of unneccessary storage and computation time. We try to find efficient ways of representing these and to find effective solutions to solve them. We would also experiment with **quantum algorithms** like Quantum Linear Solver to compare and find the most effective way of dealing with sparse matrices.  \n",
    "\n",
    "### Representation  \n",
    "Let us have a look at a Tight Binding Hamiltonian for a 20 sites' closed chain. The dimension of the Hamiltonian is 20x20 and it is a sparse matrix with non zero elements only on and near the diagonal. "
   ]
  },
  {
   "cell_type": "code",
   "execution_count": 2,
   "id": "82c01108",
   "metadata": {},
   "outputs": [
    {
     "name": "stdout",
     "output_type": "stream",
     "text": [
      "[[1. 2. 0. 0. 0. 0. 0. 0. 0. 0. 0. 0. 0. 0. 0. 0. 0. 0. 0. 2.]\n",
      " [2. 1. 2. 0. 0. 0. 0. 0. 0. 0. 0. 0. 0. 0. 0. 0. 0. 0. 0. 0.]\n",
      " [0. 2. 1. 2. 0. 0. 0. 0. 0. 0. 0. 0. 0. 0. 0. 0. 0. 0. 0. 0.]\n",
      " [0. 0. 2. 1. 2. 0. 0. 0. 0. 0. 0. 0. 0. 0. 0. 0. 0. 0. 0. 0.]\n",
      " [0. 0. 0. 2. 1. 2. 0. 0. 0. 0. 0. 0. 0. 0. 0. 0. 0. 0. 0. 0.]\n",
      " [0. 0. 0. 0. 2. 1. 2. 0. 0. 0. 0. 0. 0. 0. 0. 0. 0. 0. 0. 0.]\n",
      " [0. 0. 0. 0. 0. 2. 1. 2. 0. 0. 0. 0. 0. 0. 0. 0. 0. 0. 0. 0.]\n",
      " [0. 0. 0. 0. 0. 0. 2. 1. 2. 0. 0. 0. 0. 0. 0. 0. 0. 0. 0. 0.]\n",
      " [0. 0. 0. 0. 0. 0. 0. 2. 1. 2. 0. 0. 0. 0. 0. 0. 0. 0. 0. 0.]\n",
      " [0. 0. 0. 0. 0. 0. 0. 0. 2. 1. 2. 0. 0. 0. 0. 0. 0. 0. 0. 0.]\n",
      " [0. 0. 0. 0. 0. 0. 0. 0. 0. 2. 1. 2. 0. 0. 0. 0. 0. 0. 0. 0.]\n",
      " [0. 0. 0. 0. 0. 0. 0. 0. 0. 0. 2. 1. 2. 0. 0. 0. 0. 0. 0. 0.]\n",
      " [0. 0. 0. 0. 0. 0. 0. 0. 0. 0. 0. 2. 1. 2. 0. 0. 0. 0. 0. 0.]\n",
      " [0. 0. 0. 0. 0. 0. 0. 0. 0. 0. 0. 0. 2. 1. 2. 0. 0. 0. 0. 0.]\n",
      " [0. 0. 0. 0. 0. 0. 0. 0. 0. 0. 0. 0. 0. 2. 1. 2. 0. 0. 0. 0.]\n",
      " [0. 0. 0. 0. 0. 0. 0. 0. 0. 0. 0. 0. 0. 0. 2. 1. 2. 0. 0. 0.]\n",
      " [0. 0. 0. 0. 0. 0. 0. 0. 0. 0. 0. 0. 0. 0. 0. 2. 1. 2. 0. 0.]\n",
      " [0. 0. 0. 0. 0. 0. 0. 0. 0. 0. 0. 0. 0. 0. 0. 0. 2. 1. 2. 0.]\n",
      " [0. 0. 0. 0. 0. 0. 0. 0. 0. 0. 0. 0. 0. 0. 0. 0. 0. 2. 1. 2.]\n",
      " [2. 0. 0. 0. 0. 0. 0. 0. 0. 0. 0. 0. 0. 0. 0. 0. 0. 0. 2. 1.]]\n"
     ]
    }
   ],
   "source": [
    "def tb0_model(N,t,e):      \n",
    "    H = np.zeros((N, N))\n",
    "    np.fill_diagonal(H,e)                 #filling on site energies in the diagonal of H\n",
    "\n",
    "    pairs = [[i,(i+1)%N] for i in range(N)]\n",
    "    for pair in pairs :                    #filling hopping terms in H\n",
    "        H[pair[0]][pair[1]] = t\n",
    "        H[pair[1]][pair[0]] = t\n",
    "    return H\n",
    "H = tb0_model(20,2,[1]*4)\n",
    "print(H)"
   ]
  },
  {
   "cell_type": "markdown",
   "id": "5a45ac8e",
   "metadata": {},
   "source": [
    "To visualize the matrix and to look at the non-zero elements in a graphical way, we can ue imshow() from matplotlib. "
   ]
  },
  {
   "cell_type": "code",
   "execution_count": 3,
   "id": "847195a1",
   "metadata": {},
   "outputs": [
    {
     "data": {
      "text/plain": [
       "<matplotlib.colorbar.Colorbar at 0x212944fbc40>"
      ]
     },
     "execution_count": 3,
     "metadata": {},
     "output_type": "execute_result"
    },
    {
     "data": {
      "image/png": "[encoded data removed]",
      "text/plain": [
       "<Figure size 640x480 with 2 Axes>"
      ]
     },
     "metadata": {},
     "output_type": "display_data"
    }
   ],
   "source": [
    "plt.imshow(H)\n",
    "plt.colorbar()"
   ]
  },
  {
   "cell_type": "markdown",
   "id": "7745ce0d",
   "metadata": {},
   "source": [
    "Let's understand how sparse the matrix is. We will count the number of non zero elements and formulate an expression to measure sparsity.  "
   ]
  },
  {
   "cell_type": "code",
   "execution_count": 4,
   "id": "5fd33e86",
   "metadata": {},
   "outputs": [
    {
     "name": "stdout",
     "output_type": "stream",
     "text": [
      "0.85\n"
     ]
    }
   ],
   "source": [
    "non_zero = np.count_nonzero(H)\n",
    "frac_zero = non_zero/H.size\n",
    "sparsity = 1 - frac_zero\n",
    "print(sparsity)\n",
    "\n"
   ]
  },
  {
   "cell_type": "markdown",
   "id": "7401db35",
   "metadata": {},
   "source": [
    "Let us see how we can store this matrix in a more precise way. "
   ]
  },
  {
   "cell_type": "code",
   "execution_count": 5,
   "id": "f9244e38",
   "metadata": {},
   "outputs": [],
   "source": [
    "from scipy.sparse import csr_matrix"
   ]
  },
  {
   "cell_type": "code",
   "execution_count": 6,
   "id": "0adaf569",
   "metadata": {},
   "outputs": [
    {
     "name": "stdout",
     "output_type": "stream",
     "text": [
      "  (0, 0)\t1.0\n",
      "  (0, 1)\t2.0\n",
      "  (0, 19)\t2.0\n",
      "  (1, 0)\t2.0\n",
      "  (1, 1)\t1.0\n",
      "  (1, 2)\t2.0\n",
      "  (2, 1)\t2.0\n",
      "  (2, 2)\t1.0\n",
      "  (2, 3)\t2.0\n",
      "  (3, 2)\t2.0\n",
      "  (3, 3)\t1.0\n",
      "  (3, 4)\t2.0\n",
      "  (4, 3)\t2.0\n",
      "  (4, 4)\t1.0\n",
      "  (4, 5)\t2.0\n",
      "  (5, 4)\t2.0\n",
      "  (5, 5)\t1.0\n",
      "  (5, 6)\t2.0\n",
      "  (6, 5)\t2.0\n",
      "  (6, 6)\t1.0\n",
      "  (6, 7)\t2.0\n",
      "  (7, 6)\t2.0\n",
      "  (7, 7)\t1.0\n",
      "  (7, 8)\t2.0\n",
      "  (8, 7)\t2.0\n",
      "  :\t:\n",
      "  (11, 12)\t2.0\n",
      "  (12, 11)\t2.0\n",
      "  (12, 12)\t1.0\n",
      "  (12, 13)\t2.0\n",
      "  (13, 12)\t2.0\n",
      "  (13, 13)\t1.0\n",
      "  (13, 14)\t2.0\n",
      "  (14, 13)\t2.0\n",
      "  (14, 14)\t1.0\n",
      "  (14, 15)\t2.0\n",
      "  (15, 14)\t2.0\n",
      "  (15, 15)\t1.0\n",
      "  (15, 16)\t2.0\n",
      "  (16, 15)\t2.0\n",
      "  (16, 16)\t1.0\n",
      "  (16, 17)\t2.0\n",
      "  (17, 16)\t2.0\n",
      "  (17, 17)\t1.0\n",
      "  (17, 18)\t2.0\n",
      "  (18, 17)\t2.0\n",
      "  (18, 18)\t1.0\n",
      "  (18, 19)\t2.0\n",
      "  (19, 0)\t2.0\n",
      "  (19, 18)\t2.0\n",
      "  (19, 19)\t1.0\n"
     ]
    }
   ],
   "source": [
    "S = csr_matrix(H)\n",
    "print(S)"
   ]
  },
  {
   "cell_type": "markdown",
   "id": "1dc735ba",
   "metadata": {},
   "source": [
    "## References  \n",
    "1. [A Gentle Introduction to Sparse Matrices for Machine Learning - Jason Brownlee](https://machinelearningmastery.com/sparse-matrices-for-machine-learning/)  \n",
    "2. "
   ]
  },
  {
   "cell_type": "code",
   "execution_count": null,
   "id": "ed6de315",
   "metadata": {},
   "outputs": [],
   "source": []
  }
 ],
 "metadata": {
  "kernelspec": {
   "display_name": "Python 3.8.3 64-bit ('qiskit': conda)",
   "language": "python",
   "name": "python38364bitqiskitconda85c61b2c9abf41d69916d1aec5f7d63b"
  },
  "language_info": {
   "codemirror_mode": {
    "name": "ipython",
    "version": 3
   },
   "file_extension": ".py",
   "mimetype": "text/x-python",
   "name": "python",
   "nbconvert_exporter": "python",
   "pygments_lexer": "ipython3",
   "version": "3.9.16"
  }
 },
 "nbformat": 4,
 "nbformat_minor": 5
}
